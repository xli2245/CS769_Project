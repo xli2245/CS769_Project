{
  "cells": [
    {
      "cell_type": "markdown",
      "metadata": {
        "id": "view-in-github",
        "colab_type": "text"
      },
      "source": [
        "<a href=\"https://colab.research.google.com/github/xli2245/CS769_Project/blob/main/gpt4_classficaition.ipynb\" target=\"_parent\"><img src=\"https://colab.research.google.com/assets/colab-badge.svg\" alt=\"Open In Colab\"/></a>"
      ]
    },
    {
      "cell_type": "code",
      "execution_count": null,
      "metadata": {
        "id": "C7qom7QyKWCI"
      },
      "outputs": [],
      "source": [
        "from IPython.display import HTML, display\n",
        "\n",
        "def set_css():\n",
        "  display(HTML('''\n",
        "  <style>\n",
        "    pre {\n",
        "        white-space: pre-wrap;\n",
        "    }\n",
        "  </style>\n",
        "  '''))\n",
        "get_ipython().events.register('pre_run_cell', set_css)"
      ]
    },
    {
      "cell_type": "code",
      "execution_count": null,
      "metadata": {
        "colab": {
          "base_uri": "https://localhost:8080/",
          "height": 521
        },
        "id": "Ddenf9_HWlC-",
        "outputId": "30a76889-e151-495a-cac2-628236672d45"
      },
      "outputs": [
        {
          "output_type": "display_data",
          "data": {
            "text/plain": [
              "<IPython.core.display.HTML object>"
            ],
            "text/html": [
              "\n",
              "  <style>\n",
              "    pre {\n",
              "        white-space: pre-wrap;\n",
              "    }\n",
              "  </style>\n",
              "  "
            ]
          },
          "metadata": {}
        },
        {
          "output_type": "stream",
          "name": "stdout",
          "text": [
            "Looking in indexes: https://pypi.org/simple, https://us-python.pkg.dev/colab-wheels/public/simple/\n",
            "Collecting openai\n",
            "  Downloading openai-0.27.5-py3-none-any.whl (71 kB)\n",
            "\u001b[2K     \u001b[90m━━━━━━━━━━━━━━━━━━━━━━━━━━━━━━━━━━━━━━━━\u001b[0m \u001b[32m71.6/71.6 kB\u001b[0m \u001b[31m2.3 MB/s\u001b[0m eta \u001b[36m0:00:00\u001b[0m\n",
            "\u001b[?25hRequirement already satisfied: requests>=2.20 in /usr/local/lib/python3.10/dist-packages (from openai) (2.27.1)\n",
            "Requirement already satisfied: tqdm in /usr/local/lib/python3.10/dist-packages (from openai) (4.65.0)\n",
            "Collecting aiohttp (from openai)\n",
            "  Downloading aiohttp-3.8.4-cp310-cp310-manylinux_2_17_x86_64.manylinux2014_x86_64.whl (1.0 MB)\n",
            "\u001b[2K     \u001b[90m━━━━━━━━━━━━━━━━━━━━━━━━━━━━━━━━━━━━━━━━\u001b[0m \u001b[32m1.0/1.0 MB\u001b[0m \u001b[31m13.9 MB/s\u001b[0m eta \u001b[36m0:00:00\u001b[0m\n",
            "\u001b[?25hRequirement already satisfied: urllib3<1.27,>=1.21.1 in /usr/local/lib/python3.10/dist-packages (from requests>=2.20->openai) (1.26.15)\n",
            "Requirement already satisfied: certifi>=2017.4.17 in /usr/local/lib/python3.10/dist-packages (from requests>=2.20->openai) (2022.12.7)\n",
            "Requirement already satisfied: charset-normalizer~=2.0.0 in /usr/local/lib/python3.10/dist-packages (from requests>=2.20->openai) (2.0.12)\n",
            "Requirement already satisfied: idna<4,>=2.5 in /usr/local/lib/python3.10/dist-packages (from requests>=2.20->openai) (3.4)\n",
            "Requirement already satisfied: attrs>=17.3.0 in /usr/local/lib/python3.10/dist-packages (from aiohttp->openai) (23.1.0)\n",
            "Collecting multidict<7.0,>=4.5 (from aiohttp->openai)\n",
            "  Downloading multidict-6.0.4-cp310-cp310-manylinux_2_17_x86_64.manylinux2014_x86_64.whl (114 kB)\n",
            "\u001b[2K     \u001b[90m━━━━━━━━━━━━━━━━━━━━━━━━━━━━━━━━━━━━━━━\u001b[0m \u001b[32m114.5/114.5 kB\u001b[0m \u001b[31m2.6 MB/s\u001b[0m eta \u001b[36m0:00:00\u001b[0m\n",
            "\u001b[?25hCollecting async-timeout<5.0,>=4.0.0a3 (from aiohttp->openai)\n",
            "  Downloading async_timeout-4.0.2-py3-none-any.whl (5.8 kB)\n",
            "Collecting yarl<2.0,>=1.0 (from aiohttp->openai)\n",
            "  Downloading yarl-1.9.2-cp310-cp310-manylinux_2_17_x86_64.manylinux2014_x86_64.whl (268 kB)\n",
            "\u001b[2K     \u001b[90m━━━━━━━━━━━━━━━━━━━━━━━━━━━━━━━━━━━━━━━\u001b[0m \u001b[32m268.8/268.8 kB\u001b[0m \u001b[31m8.4 MB/s\u001b[0m eta \u001b[36m0:00:00\u001b[0m\n",
            "\u001b[?25hCollecting frozenlist>=1.1.1 (from aiohttp->openai)\n",
            "  Downloading frozenlist-1.3.3-cp310-cp310-manylinux_2_5_x86_64.manylinux1_x86_64.manylinux_2_17_x86_64.manylinux2014_x86_64.whl (149 kB)\n",
            "\u001b[2K     \u001b[90m━━━━━━━━━━━━━━━━━━━━━━━━━━━━━━━━━━━━━━━\u001b[0m \u001b[32m149.6/149.6 kB\u001b[0m \u001b[31m8.8 MB/s\u001b[0m eta \u001b[36m0:00:00\u001b[0m\n",
            "\u001b[?25hCollecting aiosignal>=1.1.2 (from aiohttp->openai)\n",
            "  Downloading aiosignal-1.3.1-py3-none-any.whl (7.6 kB)\n",
            "Installing collected packages: multidict, frozenlist, async-timeout, yarl, aiosignal, aiohttp, openai\n",
            "Successfully installed aiohttp-3.8.4 aiosignal-1.3.1 async-timeout-4.0.2 frozenlist-1.3.3 multidict-6.0.4 openai-0.27.5 yarl-1.9.2\n"
          ]
        }
      ],
      "source": [
        "!pip install openai"
      ]
    },
    {
      "cell_type": "code",
      "execution_count": null,
      "metadata": {
        "colab": {
          "base_uri": "https://localhost:8080/",
          "height": 17
        },
        "id": "fB2an4UpWhV5",
        "outputId": "89404fa3-5725-4995-c206-aa283d90a010"
      },
      "outputs": [
        {
          "output_type": "display_data",
          "data": {
            "text/plain": [
              "<IPython.core.display.HTML object>"
            ],
            "text/html": [
              "\n",
              "  <style>\n",
              "    pre {\n",
              "        white-space: pre-wrap;\n",
              "    }\n",
              "  </style>\n",
              "  "
            ]
          },
          "metadata": {}
        }
      ],
      "source": [
        "import os\n",
        "import openai\n",
        "import requests\n",
        "import json\n",
        "import pandas as pd\n",
        "openai.api_key = key # replace with your key\n",
        "\n"
      ]
    },
    {
      "cell_type": "code",
      "execution_count": null,
      "metadata": {
        "id": "NrXJxGppdfND",
        "colab": {
          "base_uri": "https://localhost:8080/",
          "height": 1000
        },
        "outputId": "5278fb3d-73dd-477a-f17b-40fef24f477a"
      },
      "outputs": [
        {
          "output_type": "display_data",
          "data": {
            "text/plain": [
              "<IPython.core.display.HTML object>"
            ],
            "text/html": [
              "\n",
              "  <style>\n",
              "    pre {\n",
              "        white-space: pre-wrap;\n",
              "    }\n",
              "  </style>\n",
              "  "
            ]
          },
          "metadata": {}
        },
        {
          "output_type": "stream",
          "name": "stdout",
          "text": [
            "Looking in indexes: https://pypi.org/simple, https://us-python.pkg.dev/colab-wheels/public/simple/\n",
            "Requirement already satisfied: numpy in /usr/local/lib/python3.10/dist-packages (1.22.4)\n",
            "Looking in indexes: https://pypi.org/simple, https://us-python.pkg.dev/colab-wheels/public/simple/\n",
            "Requirement already satisfied: tqdm in /usr/local/lib/python3.10/dist-packages (4.65.0)\n",
            "Looking in indexes: https://pypi.org/simple, https://us-python.pkg.dev/colab-wheels/public/simple/\n",
            "Requirement already satisfied: Pillow in /usr/local/lib/python3.10/dist-packages (8.4.0)\n",
            "Looking in indexes: https://pypi.org/simple, https://us-python.pkg.dev/colab-wheels/public/simple/\n",
            "Requirement already satisfied: PyYAML in /usr/local/lib/python3.10/dist-packages (6.0)\n",
            "Looking in indexes: https://pypi.org/simple, https://us-python.pkg.dev/colab-wheels/public/simple/\n",
            "Requirement already satisfied: scikit_learn in /usr/local/lib/python3.10/dist-packages (1.2.2)\n",
            "Requirement already satisfied: numpy>=1.17.3 in /usr/local/lib/python3.10/dist-packages (from scikit_learn) (1.22.4)\n",
            "Requirement already satisfied: scipy>=1.3.2 in /usr/local/lib/python3.10/dist-packages (from scikit_learn) (1.10.1)\n",
            "Requirement already satisfied: joblib>=1.1.1 in /usr/local/lib/python3.10/dist-packages (from scikit_learn) (1.2.0)\n",
            "Requirement already satisfied: threadpoolctl>=2.0.0 in /usr/local/lib/python3.10/dist-packages (from scikit_learn) (3.1.0)\n",
            "Looking in indexes: https://pypi.org/simple, https://us-python.pkg.dev/colab-wheels/public/simple/\n",
            "Requirement already satisfied: torch in /usr/local/lib/python3.10/dist-packages (2.0.0+cu118)\n",
            "Requirement already satisfied: filelock in /usr/local/lib/python3.10/dist-packages (from torch) (3.12.0)\n",
            "Requirement already satisfied: typing-extensions in /usr/local/lib/python3.10/dist-packages (from torch) (4.5.0)\n",
            "Requirement already satisfied: sympy in /usr/local/lib/python3.10/dist-packages (from torch) (1.11.1)\n",
            "Requirement already satisfied: networkx in /usr/local/lib/python3.10/dist-packages (from torch) (3.1)\n",
            "Requirement already satisfied: jinja2 in /usr/local/lib/python3.10/dist-packages (from torch) (3.1.2)\n",
            "Requirement already satisfied: triton==2.0.0 in /usr/local/lib/python3.10/dist-packages (from torch) (2.0.0)\n",
            "Requirement already satisfied: cmake in /usr/local/lib/python3.10/dist-packages (from triton==2.0.0->torch) (3.25.2)\n",
            "Requirement already satisfied: lit in /usr/local/lib/python3.10/dist-packages (from triton==2.0.0->torch) (16.0.2)\n",
            "Requirement already satisfied: MarkupSafe>=2.0 in /usr/local/lib/python3.10/dist-packages (from jinja2->torch) (2.1.2)\n",
            "Requirement already satisfied: mpmath>=0.19 in /usr/local/lib/python3.10/dist-packages (from sympy->torch) (1.3.0)\n",
            "Looking in indexes: https://pypi.org/simple, https://us-python.pkg.dev/colab-wheels/public/simple/\n",
            "Requirement already satisfied: torchvision in /usr/local/lib/python3.10/dist-packages (0.15.1+cu118)\n",
            "Requirement already satisfied: numpy in /usr/local/lib/python3.10/dist-packages (from torchvision) (1.22.4)\n",
            "Requirement already satisfied: requests in /usr/local/lib/python3.10/dist-packages (from torchvision) (2.27.1)\n",
            "Requirement already satisfied: torch==2.0.0 in /usr/local/lib/python3.10/dist-packages (from torchvision) (2.0.0+cu118)\n",
            "Requirement already satisfied: pillow!=8.3.*,>=5.3.0 in /usr/local/lib/python3.10/dist-packages (from torchvision) (8.4.0)\n",
            "Requirement already satisfied: filelock in /usr/local/lib/python3.10/dist-packages (from torch==2.0.0->torchvision) (3.12.0)\n",
            "Requirement already satisfied: typing-extensions in /usr/local/lib/python3.10/dist-packages (from torch==2.0.0->torchvision) (4.5.0)\n",
            "Requirement already satisfied: sympy in /usr/local/lib/python3.10/dist-packages (from torch==2.0.0->torchvision) (1.11.1)\n",
            "Requirement already satisfied: networkx in /usr/local/lib/python3.10/dist-packages (from torch==2.0.0->torchvision) (3.1)\n",
            "Requirement already satisfied: jinja2 in /usr/local/lib/python3.10/dist-packages (from torch==2.0.0->torchvision) (3.1.2)\n",
            "Requirement already satisfied: triton==2.0.0 in /usr/local/lib/python3.10/dist-packages (from torch==2.0.0->torchvision) (2.0.0)\n",
            "Requirement already satisfied: cmake in /usr/local/lib/python3.10/dist-packages (from triton==2.0.0->torch==2.0.0->torchvision) (3.25.2)\n",
            "Requirement already satisfied: lit in /usr/local/lib/python3.10/dist-packages (from triton==2.0.0->torch==2.0.0->torchvision) (16.0.2)\n",
            "Requirement already satisfied: urllib3<1.27,>=1.21.1 in /usr/local/lib/python3.10/dist-packages (from requests->torchvision) (1.26.15)\n",
            "Requirement already satisfied: certifi>=2017.4.17 in /usr/local/lib/python3.10/dist-packages (from requests->torchvision) (2022.12.7)\n",
            "Requirement already satisfied: charset-normalizer~=2.0.0 in /usr/local/lib/python3.10/dist-packages (from requests->torchvision) (2.0.12)\n",
            "Requirement already satisfied: idna<4,>=2.5 in /usr/local/lib/python3.10/dist-packages (from requests->torchvision) (3.4)\n",
            "Requirement already satisfied: MarkupSafe>=2.0 in /usr/local/lib/python3.10/dist-packages (from jinja2->torch==2.0.0->torchvision) (2.1.2)\n",
            "Requirement already satisfied: mpmath>=0.19 in /usr/local/lib/python3.10/dist-packages (from sympy->torch==2.0.0->torchvision) (1.3.0)\n",
            "Looking in indexes: https://pypi.org/simple, https://us-python.pkg.dev/colab-wheels/public/simple/\n",
            "Collecting transformers\n",
            "  Downloading transformers-4.28.1-py3-none-any.whl (7.0 MB)\n",
            "\u001b[2K     \u001b[90m━━━━━━━━━━━━━━━━━━━━━━━━━━━━━━━━━━━━━━━━\u001b[0m \u001b[32m7.0/7.0 MB\u001b[0m \u001b[31m49.3 MB/s\u001b[0m eta \u001b[36m0:00:00\u001b[0m\n",
            "\u001b[?25hRequirement already satisfied: filelock in /usr/local/lib/python3.10/dist-packages (from transformers) (3.12.0)\n",
            "Collecting huggingface-hub<1.0,>=0.11.0 (from transformers)\n",
            "  Downloading huggingface_hub-0.14.1-py3-none-any.whl (224 kB)\n",
            "\u001b[2K     \u001b[90m━━━━━━━━━━━━━━━━━━━━━━━━━━━━━━━━━━━━━━\u001b[0m \u001b[32m224.5/224.5 kB\u001b[0m \u001b[31m21.9 MB/s\u001b[0m eta \u001b[36m0:00:00\u001b[0m\n",
            "\u001b[?25hRequirement already satisfied: numpy>=1.17 in /usr/local/lib/python3.10/dist-packages (from transformers) (1.22.4)\n",
            "Requirement already satisfied: packaging>=20.0 in /usr/local/lib/python3.10/dist-packages (from transformers) (23.1)\n",
            "Requirement already satisfied: pyyaml>=5.1 in /usr/local/lib/python3.10/dist-packages (from transformers) (6.0)\n",
            "Requirement already satisfied: regex!=2019.12.17 in /usr/local/lib/python3.10/dist-packages (from transformers) (2022.10.31)\n",
            "Requirement already satisfied: requests in /usr/local/lib/python3.10/dist-packages (from transformers) (2.27.1)\n",
            "Collecting tokenizers!=0.11.3,<0.14,>=0.11.1 (from transformers)\n",
            "  Downloading tokenizers-0.13.3-cp310-cp310-manylinux_2_17_x86_64.manylinux2014_x86_64.whl (7.8 MB)\n",
            "\u001b[2K     \u001b[90m━━━━━━━━━━━━━━━━━━━━━━━━━━━━━━━━━━━━━━━━\u001b[0m \u001b[32m7.8/7.8 MB\u001b[0m \u001b[31m85.5 MB/s\u001b[0m eta \u001b[36m0:00:00\u001b[0m\n",
            "\u001b[?25hRequirement already satisfied: tqdm>=4.27 in /usr/local/lib/python3.10/dist-packages (from transformers) (4.65.0)\n",
            "Requirement already satisfied: fsspec in /usr/local/lib/python3.10/dist-packages (from huggingface-hub<1.0,>=0.11.0->transformers) (2023.4.0)\n",
            "Requirement already satisfied: typing-extensions>=3.7.4.3 in /usr/local/lib/python3.10/dist-packages (from huggingface-hub<1.0,>=0.11.0->transformers) (4.5.0)\n",
            "Requirement already satisfied: urllib3<1.27,>=1.21.1 in /usr/local/lib/python3.10/dist-packages (from requests->transformers) (1.26.15)\n",
            "Requirement already satisfied: certifi>=2017.4.17 in /usr/local/lib/python3.10/dist-packages (from requests->transformers) (2022.12.7)\n",
            "Requirement already satisfied: charset-normalizer~=2.0.0 in /usr/local/lib/python3.10/dist-packages (from requests->transformers) (2.0.12)\n",
            "Requirement already satisfied: idna<4,>=2.5 in /usr/local/lib/python3.10/dist-packages (from requests->transformers) (3.4)\n",
            "Installing collected packages: tokenizers, huggingface-hub, transformers\n",
            "Successfully installed huggingface-hub-0.14.1 tokenizers-0.13.3 transformers-4.28.1\n"
          ]
        }
      ],
      "source": [
        "!pip install numpy\n",
        "!pip install tqdm\n",
        "!pip install Pillow\n",
        "!pip install PyYAML\n",
        "!pip install scikit_learn\n",
        "!pip install torch\n",
        "!pip install torchvision\n",
        "!pip install transformers"
      ]
    },
    {
      "cell_type": "code",
      "execution_count": null,
      "metadata": {
        "colab": {
          "base_uri": "https://localhost:8080/",
          "height": 34
        },
        "id": "VsmmPJO9eIse",
        "outputId": "a737c384-aecc-47bb-ee32-fdf140bb6251"
      },
      "outputs": [
        {
          "output_type": "display_data",
          "data": {
            "text/plain": [
              "<IPython.core.display.HTML object>"
            ],
            "text/html": [
              "\n",
              "  <style>\n",
              "    pre {\n",
              "        white-space: pre-wrap;\n",
              "    }\n",
              "  </style>\n",
              "  "
            ]
          },
          "metadata": {}
        },
        {
          "output_type": "stream",
          "name": "stdout",
          "text": [
            "Mounted at /content/drive\n"
          ]
        }
      ],
      "source": [
        "import os\n",
        "from google.colab import drive\n",
        "drive.mount('/content/drive')\n",
        "os.path.realpath('.')\n",
        "hw_path='/content/drive/My Drive/CourseWork/CS 769/project/'"
      ]
    },
    {
      "cell_type": "code",
      "execution_count": null,
      "metadata": {
        "colab": {
          "base_uri": "https://localhost:8080/",
          "height": 156
        },
        "id": "KM67LA2bv5yR",
        "outputId": "746ba093-aa02-4154-b935-85aee67c8726"
      },
      "outputs": [
        {
          "output_type": "display_data",
          "data": {
            "text/plain": [
              "<IPython.core.display.HTML object>"
            ],
            "text/html": [
              "\n",
              "  <style>\n",
              "    pre {\n",
              "        white-space: pre-wrap;\n",
              "    }\n",
              "  </style>\n",
              "  "
            ]
          },
          "metadata": {}
        },
        {
          "output_type": "stream",
          "name": "stdout",
          "text": [
            "Cloning into 'CS769_Project'...\n",
            "remote: Enumerating objects: 833, done.\u001b[K\n",
            "remote: Counting objects: 100% (31/31), done.\u001b[K\n",
            "remote: Compressing objects: 100% (27/27), done.\u001b[K\n",
            "remote: Total 833 (delta 14), reused 7 (delta 2), pack-reused 802\u001b[K\n",
            "Receiving objects: 100% (833/833), 108.91 MiB | 35.83 MiB/s, done.\n",
            "Resolving deltas: 100% (23/23), done.\n",
            "/content/CS769_Project\n"
          ]
        }
      ],
      "source": [
        "!git clone https://github.com/xli2245/CS769_Project\n",
        "%cd ./CS769_Project/"
      ]
    },
    {
      "cell_type": "code",
      "execution_count": null,
      "metadata": {
        "id": "xXs8i9ShdWkv"
      },
      "outputs": [],
      "source": [
        "!cd data && for z in *.zip; do unzip $z; done && cd .."
      ]
    },
    {
      "cell_type": "code",
      "source": [
        "!ls"
      ],
      "metadata": {
        "colab": {
          "base_uri": "https://localhost:8080/",
          "height": 121
        },
        "id": "nAlu-ZH5vwG0",
        "outputId": "ce13c847-4334-4318-d9f8-d3b85056909c"
      },
      "execution_count": null,
      "outputs": [
        {
          "output_type": "display_data",
          "data": {
            "text/plain": [
              "<IPython.core.display.HTML object>"
            ],
            "text/html": [
              "\n",
              "  <style>\n",
              "    pre {\n",
              "        white-space: pre-wrap;\n",
              "    }\n",
              "  </style>\n",
              "  "
            ]
          },
          "metadata": {}
        },
        {
          "output_type": "stream",
          "name": "stdout",
          "text": [
            "baselines\t\t inference.py\t   scorer\n",
            "cfg\t\t\t models.py\t   techniques_list_task1-2.txt\n",
            "data\t\t\t __pycache__\t   techniques_list_task3.txt\n",
            "data.sb-18463533-cTbCGw  README.md\t   train.py\n",
            "dataset.py\t\t requirements.txt\n",
            "format_checker\t\t sampler.py\n"
          ]
        }
      ]
    },
    {
      "cell_type": "code",
      "execution_count": null,
      "metadata": {
        "id": "i8D_LxSwo1PM",
        "colab": {
          "base_uri": "https://localhost:8080/",
          "height": 17
        },
        "outputId": "eb3f0fa2-9b5e-4885-f19a-f90b9f46cdc4"
      },
      "outputs": [
        {
          "output_type": "display_data",
          "data": {
            "text/plain": [
              "<IPython.core.display.HTML object>"
            ],
            "text/html": [
              "\n",
              "  <style>\n",
              "    pre {\n",
              "        white-space: pre-wrap;\n",
              "    }\n",
              "  </style>\n",
              "  "
            ]
          },
          "metadata": {}
        }
      ],
      "source": [
        "import json\n",
        "filename=\"data/test_set_task3/test_set_task3.txt\"\n",
        "# Open the file for reading\n",
        "with open(filename, \"r\") as file:\n",
        "    # Load the JSON-formatted dictionary from the file\n",
        "    data = json.load(file)\n",
        "\n",
        "# Print the loaded data\n",
        "#print(data)\n",
        "\n"
      ]
    },
    {
      "cell_type": "code",
      "execution_count": null,
      "metadata": {
        "colab": {
          "base_uri": "https://localhost:8080/",
          "height": 17
        },
        "id": "W9jmjz8SzJix",
        "outputId": "4a6867d8-15d6-42c1-b382-fb843339a593"
      },
      "outputs": [
        {
          "output_type": "display_data",
          "data": {
            "text/plain": [
              "<IPython.core.display.HTML object>"
            ],
            "text/html": [
              "\n",
              "  <style>\n",
              "    pre {\n",
              "        white-space: pre-wrap;\n",
              "    }\n",
              "  </style>\n",
              "  "
            ]
          },
          "metadata": {}
        }
      ],
      "source": [
        "id_text=[{\"id\":x['id'],\"text\":x['text']} for x in data]"
      ]
    },
    {
      "cell_type": "markdown",
      "metadata": {
        "id": "sbaMKJUfYVcn"
      },
      "source": [
        "# Ask GPT4"
      ]
    },
    {
      "cell_type": "code",
      "execution_count": null,
      "metadata": {
        "colab": {
          "base_uri": "https://localhost:8080/",
          "height": 17
        },
        "id": "RlegUtTPNjQH",
        "outputId": "9b67c930-54f7-46fd-da37-b8efe1f3f2b7"
      },
      "outputs": [
        {
          "output_type": "display_data",
          "data": {
            "text/plain": [
              "<IPython.core.display.HTML object>"
            ],
            "text/html": [
              "\n",
              "  <style>\n",
              "    pre {\n",
              "        white-space: pre-wrap;\n",
              "    }\n",
              "  </style>\n",
              "  "
            ]
          },
          "metadata": {}
        }
      ],
      "source": [
        "# The detailed classification\n",
        "tech_20= \"\"\" 1 Loaded Language: Using specific words and phrases with strong emotional implications (either positive or negative) to influence an audience. \n",
        " 2 Name Calling or Labeling: Labeling the object of the propaganda campaign as either something the target audience fears, hates, finds undesirable,or loves, praises. \n",
        " 3 Doubt: Questioning the credibility of someone or something. \n",
        " 4 Exaggeration or Minimisation: Either representing something in an excessive manner,e.g., making things larger, better, worse (“thebest of the best”, “quality guaranteed”), or makingsomething seem less important or smaller than it really is, e.g., saying that an insult was just a joke. \n",
        " 5 Appeal to Fear or Prejudices: Seeking to build support for an idea by instilling anxiety and/or panic in the population towards an alternative. In some cases, the support is built based on preconceived judgments. \n",
        " 6 Slogans: A brief and striking phrase that may include labeling and stereotyping. Slogans tend to act as emotional appeals. \n",
        " 7 Whataboutism: A technique that attempts to discredit an opponent’s position by charging them with hypocrisy without directly disproving their argument. \n",
        " 8 Flag-Waving: Playing on strong national feeling (or positive feelings toward any group, e.g., based on race, gender, political preference) to justify or promote an action or idea. \n",
        " 9 Misrepresentation of Someone’s Position (Straw Man): When an opponent’s proposition is substituted with a similar one, which is then refuted in place of the original proposition. \n",
        " 10 Causal Oversimplification: Assuming a single cause or reason, when there are actually multiple causes for an issue. It includes transferring blame to one person or group of people without investigating the actual complexities of the issue. \n",
        " 11 Appeal to Authority: Stating that a claim is true because a valid authority or expert on the issue said it was true, without any other supporting evidence offered. We consider the special case in which the reference is not an authority or an expert as part of this technique, although it is referred to as Testimonial in the literature. \n",
        " 12 Thought-Terminating Cliche: Words or phrases that discourage critical thought and meaningful discussion about a given topic. They are typically short, generic sentences that offer seemingly simple answers to complex questions or that distract the attention away from other lines of thought. \n",
        " 13 Black-and-White Fallacy or Dictatorship: Presenting two alternative options as the only possibilities, when in fact more possibilities exist. As an extreme case, tell the audience exactly what actions to take, eliminating any other possible choices (Dictatorship). \n",
        " 14 Reductio ad Hitlerum: Persuading an audience to disapprove of an action or an idea by suggesting that the idea is popular with groups that are hated or in contempt by the target audience. It can refer to any person or concept with a negative connotation. \n",
        " 15 Repetition: Repeating the same message over and over again, so that the audience will eventually accept it. \n",
        " 16 Obfuscation, Intentional Vagueness, Confusion: Using words that are deliberately not clear, so that the audience can have their own interpretations. \n",
        " 17 Presenting Irrelevant Data (Red Herring): Introducing irrelevant material to the issue being discussed, so that everyone’s attention is diverted away from the points made. \n",
        " 18 Bandwagon: Attempting to persuade the target audience to join in and take the course of action because “everyone else is taking the same action.” \n",
        " 19 Smears: A smear is an effort to damage or call into question someone’s reputation, by propounding negative propaganda. It can be applied to individuals or groups. \n",
        " 20 Glittering Generalities (Virtue): These are words or symbols in the value system of the target audience that produce a positive image when attached to a person or an issue. \n",
        " 21 Appeal to (Strong) Emotions: Using images with strong positive/negative emotional implications to influence an audience. \n",
        " 22 Transfer: Also known as Association, this is a technique that evokes an emotional response by projecting positive or negative qualities (praise or blame) of a person, entity, object, or value onto another one in order to make the latter more acceptable or to discredit it.\"\"\"   "
      ]
    },
    {
      "cell_type": "code",
      "source": [
        "# The simplified classifications\n",
        "tech_20=\"\"\" Appeal to authority\n",
        "Appeal to fear/prejudice\n",
        "Black-and-white Fallacy/Dictatorship\n",
        "Causal Oversimplification\n",
        "Doubt\n",
        "Exaggeration/Minimisation\n",
        "Flag-waving\n",
        "Glittering generalities (Virtue)\n",
        "Loaded Language\n",
        "Misrepresentation of Someone's Position (Straw Man)\n",
        "Name calling/Labeling\n",
        "Obfuscation, Intentional vagueness, Confusion\n",
        "Presenting Irrelevant Data (Red Herring)\n",
        "Reductio ad hitlerum\n",
        "Repetition\n",
        "Slogans\n",
        "Smears\n",
        "Thought-terminating cliché\n",
        "Whataboutism\n",
        "Bandwagon\n",
        "Transfer\n",
        "Appeal to (Strong) Emotions\"\"\""
      ],
      "metadata": {
        "colab": {
          "base_uri": "https://localhost:8080/",
          "height": 17
        },
        "id": "hog488DB38Wi",
        "outputId": "67ac3b1d-b2ba-4a0d-badf-ec0410c8042e"
      },
      "execution_count": null,
      "outputs": [
        {
          "output_type": "display_data",
          "data": {
            "text/plain": [
              "<IPython.core.display.HTML object>"
            ],
            "text/html": [
              "\n",
              "  <style>\n",
              "    pre {\n",
              "        white-space: pre-wrap;\n",
              "    }\n",
              "  </style>\n",
              "  "
            ]
          },
          "metadata": {}
        }
      ]
    },
    {
      "cell_type": "code",
      "execution_count": null,
      "metadata": {
        "colab": {
          "base_uri": "https://localhost:8080/",
          "height": 17
        },
        "id": "GugsjBaXxAZi",
        "outputId": "52fbe445-e090-4266-b1ab-218461011ee6"
      },
      "outputs": [
        {
          "output_type": "display_data",
          "data": {
            "text/plain": [
              "<IPython.core.display.HTML object>"
            ],
            "text/html": [
              "\n",
              "  <style>\n",
              "    pre {\n",
              "        white-space: pre-wrap;\n",
              "    }\n",
              "  </style>\n",
              "  "
            ]
          },
          "metadata": {}
        }
      ],
      "source": [
        "role=\"You are a classifier. I will first give you a coding book.  Then you need to classify the persuasive techniques in the text according to this coding book.\"\n",
        "instruction1=\"There could be more than one persuasive techniques in the text.\"\n",
        "instruction2=\"The output should be a 23*1 vector, where the first row is the ID I provide, and the remaining 22 rows are the score for each persuasive technique.\"\n",
        "instruction3=\"You should have a score ranging from 0 to 1 for each persuasive techniques, so that it will be a continuous score rather than a binary score. \"\n",
        "instruction4=\"\"\" Please provide a JSON object with the following information: ids, and scores for these 22 persuasive techniques. Each key should have a corresponding value, which can be the \"id\" or the \"score\" you just coded. Do not include any additional text or comments. \"\"\"\n",
        "instruction5=\"Here are 5 texts, please provide the json object accordingly\"\n"
      ]
    },
    {
      "cell_type": "code",
      "execution_count": null,
      "metadata": {
        "colab": {
          "base_uri": "https://localhost:8080/",
          "height": 17
        },
        "id": "VoNGpqMWSQzK",
        "outputId": "6d9dd037-fb91-4057-dec1-85a292ad549e"
      },
      "outputs": [
        {
          "output_type": "display_data",
          "data": {
            "text/plain": [
              "<IPython.core.display.HTML object>"
            ],
            "text/html": [
              "\n",
              "  <style>\n",
              "    pre {\n",
              "        white-space: pre-wrap;\n",
              "    }\n",
              "  </style>\n",
              "  "
            ]
          },
          "metadata": {}
        }
      ],
      "source": [
        "\n",
        "def get_label_json(input_text):\n",
        "  #print(str(input_text[0]))\n",
        "  #print(str(input_text[1]))\n",
        "  cls_res=openai.ChatCompletion.create(\n",
        "    model=\"gpt-4\",\n",
        "    temperature=0.1,\n",
        "    messages=[\n",
        "          {\"role\": \"system\", \"content\": role},\n",
        "          {\"role\": \"user\", \"content\": \"Here are 22 persuasive techniques.\"+tech_20},\n",
        "          {\"role\":\"user\",\"content\":instruction1},\n",
        "          {\"role\":\"user\",\"content\":instruction2},\n",
        "          #This time a binary classifier {\"role\":\"user\",\"content\":instruction3}, \n",
        "          {\"role\":\"user\",\"content\":instruction4},\n",
        "          {\"role\":\"user\",\"content\":instruction5},\n",
        "          {\"role\":\"user\",\"content\":str(input_text[0])},\n",
        "          {\"role\":\"user\",\"content\":str(input_text[1])},\n",
        "          {\"role\":\"user\",\"content\":str(input_text[2])},\n",
        "          {\"role\":\"user\",\"content\":str(input_text[3])},\n",
        "          {\"role\":\"user\",\"content\":str(input_text[4])}\n",
        "      ]\n",
        "  )\n",
        "  return(cls_res)"
      ]
    },
    {
      "cell_type": "code",
      "execution_count": null,
      "metadata": {
        "colab": {
          "base_uri": "https://localhost:8080/",
          "height": 17
        },
        "id": "pn9EWreO3vWA",
        "outputId": "9edb0f63-9257-4748-b909-f1a919d1b432"
      },
      "outputs": [
        {
          "output_type": "display_data",
          "data": {
            "text/plain": [
              "<IPython.core.display.HTML object>"
            ],
            "text/html": [
              "\n",
              "  <style>\n",
              "    pre {\n",
              "        white-space: pre-wrap;\n",
              "    }\n",
              "  </style>\n",
              "  "
            ]
          },
          "metadata": {}
        }
      ],
      "source": [
        "import time\n",
        "import pandas as pd\n",
        "len_data=len(id_text)\n",
        "label_json=[]\n",
        "for idx in range(0,int(len_data/5)):\n",
        "  label_5=get_label_json(id_text[(5*idx):(5*idx+5)]) \n",
        "  json_5=json.loads(label_5.choices[0]['message']['content'])\n",
        "  if(len(label_json)==0):\n",
        "    label_json=json_5\n",
        "  else:\n",
        "    label_json={**label_json,**json_5}\n",
        "  pd.DataFrame(label_json.values()).to_csv(os.path.join(hw_path,\"code_result.csv\"))\n",
        "  time.sleep(5)"
      ]
    },
    {
      "cell_type": "code",
      "execution_count": null,
      "metadata": {
        "id": "CaSJCBF3uyfJ"
      },
      "outputs": [],
      "source": [
        "for k,v in label_json.items():\n",
        "  if(\"id\" in v.keys()):\n",
        "    print(k)\n",
        "    print(label_json[k].keys())\n",
        "    if(\"scores\" in label_json[k].keys()):\n",
        "      label_json[k]=(label_json[k]['scores'])\n",
        "    else:\n",
        "      pass\n",
        "   # input()\n",
        "  "
      ]
    },
    {
      "cell_type": "code",
      "execution_count": null,
      "metadata": {
        "colab": {
          "base_uri": "https://localhost:8080/",
          "height": 17
        },
        "id": "_gHqtVOxN1w2",
        "outputId": "6026a482-6f9a-4c45-b4ab-dc5db1d40b9f"
      },
      "outputs": [
        {
          "output_type": "display_data",
          "data": {
            "text/plain": [
              "<IPython.core.display.HTML object>"
            ],
            "text/html": [
              "\n",
              "  <style>\n",
              "    pre {\n",
              "        white-space: pre-wrap;\n",
              "    }\n",
              "  </style>\n",
              "  "
            ]
          },
          "metadata": {}
        }
      ],
      "source": [
        "id_labels=[{\"id\":x['id'],\"labels\":x['labels']} for x in data]"
      ]
    },
    {
      "cell_type": "code",
      "execution_count": null,
      "metadata": {
        "colab": {
          "base_uri": "https://localhost:8080/",
          "height": 17
        },
        "id": "CG9V7a3kBO_W",
        "outputId": "e6b4e9a0-6a67-41ed-d8d5-59066441cba6"
      },
      "outputs": [
        {
          "output_type": "display_data",
          "data": {
            "text/plain": [
              "<IPython.core.display.HTML object>"
            ],
            "text/html": [
              "\n",
              "  <style>\n",
              "    pre {\n",
              "        white-space: pre-wrap;\n",
              "    }\n",
              "  </style>\n",
              "  "
            ]
          },
          "metadata": {}
        }
      ],
      "source": [
        "all_labels=[]\n",
        "for i in range(len(id_labels)):\n",
        "  #print(id_labels[i])\n",
        "  this_labels=id_labels[i]['labels']\n",
        "  for x in this_labels:\n",
        "    if(x not in all_labels):\n",
        "      all_labels.append(x)"
      ]
    },
    {
      "cell_type": "code",
      "execution_count": null,
      "metadata": {
        "colab": {
          "base_uri": "https://localhost:8080/",
          "height": 17
        },
        "id": "wKPbvTUAEygJ",
        "outputId": "d35279ac-fc75-4b66-d7e0-d9a4ae90914f"
      },
      "outputs": [
        {
          "output_type": "display_data",
          "data": {
            "text/plain": [
              "<IPython.core.display.HTML object>"
            ],
            "text/html": [
              "\n",
              "  <style>\n",
              "    pre {\n",
              "        white-space: pre-wrap;\n",
              "    }\n",
              "  </style>\n",
              "  "
            ]
          },
          "metadata": {}
        }
      ],
      "source": [
        "all_json=[]\n",
        "\n",
        "for i in range(len(id_labels)):\n",
        "  new_dict={}\n",
        "  new_dict['id']=id_labels[i]['id']\n",
        "  #print(id_labels[i])\n",
        "  this_labels=id_labels[i]['labels']\n",
        "  for x in this_labels:\n",
        "      new_dict[x]=1\n",
        "  for x in all_labels:\n",
        "    if(x not in this_labels):\n",
        "      new_dict[x]=0\n",
        "  #print(new_dict)\n",
        "  #print(all_json)\n",
        "  all_json.append(new_dict)"
      ]
    },
    {
      "cell_type": "code",
      "execution_count": null,
      "metadata": {
        "id": "LwFtWgfvG7sW"
      },
      "outputs": [],
      "source": [
        "import pandas as pd\n",
        "df=pd.DataFrame(all_json)\n",
        "sorted_columns = df.columns.sort_values()\n",
        "# Reorder DataFrame using sorted columns\n",
        "df_sorted = df[sorted_columns]\n",
        "print(\"\\nDataFrame with sorted columns:\")\n",
        "print(df_sorted)\n",
        "df_sorted.to_csv(\"gold_truth.csv\",index=False)\n",
        "\n",
        "#gold_truth=pd.read_csv(\"gold_truth.csv\",encoding=\"utf-8\")"
      ]
    },
    {
      "cell_type": "code",
      "source": [
        "gold_truth=pd.read_csv(\"gold_truth.csv\",encoding=\"utf-8\")\n",
        "df=pd.read_csv(\"code_result.csv\")\n",
        "sorted_columns = df.columns.sort_values()\n",
        "# Reorder DataFrame using sorted columns\n",
        "code_result = df[sorted_columns]\n",
        "print(code_result.columns)\n",
        "print(gold_truth.columns)"
      ],
      "metadata": {
        "colab": {
          "base_uri": "https://localhost:8080/",
          "height": 443
        },
        "id": "R6c0Quuhw8uU",
        "outputId": "ef514a43-99bf-4918-857e-e64f29502c8c"
      },
      "execution_count": null,
      "outputs": [
        {
          "output_type": "display_data",
          "data": {
            "text/plain": [
              "<IPython.core.display.HTML object>"
            ],
            "text/html": [
              "\n",
              "  <style>\n",
              "    pre {\n",
              "        white-space: pre-wrap;\n",
              "    }\n",
              "  </style>\n",
              "  "
            ]
          },
          "metadata": {}
        },
        {
          "output_type": "stream",
          "name": "stdout",
          "text": [
            "Index(['Appeal to (Strong) Emotions', 'Appeal to authority',\n",
            "       'Appeal to fear/prejudice', 'Bandwagon',\n",
            "       'Black-and-white Fallacy/Dictatorship', 'Causal Oversimplification',\n",
            "       'Doubt', 'Exaggeration/Minimisation', 'Flag-waving',\n",
            "       'Glittering generalities (Virtue)', 'Loaded Language',\n",
            "       'Misrepresentation of Someone's Position (Straw Man)',\n",
            "       'Name calling/Labeling',\n",
            "       'Obfuscation, Intentional vagueness, Confusion',\n",
            "       'Presenting Irrelevant Data (Red Herring)', 'Reductio ad hitlerum',\n",
            "       'Repetition', 'Slogans', 'Smears', 'Thought-terminating cliché',\n",
            "       'Transfer', 'Whataboutism'],\n",
            "      dtype='object')\n",
            "Index(['Appeal to (Strong) Emotions', 'Appeal to authority',\n",
            "       'Appeal to fear/prejudice', 'Bandwagon',\n",
            "       'Black-and-white Fallacy/Dictatorship', 'Causal Oversimplification',\n",
            "       'Doubt', 'Exaggeration/Minimisation', 'Flag-waving',\n",
            "       'Glittering generalities (Virtue)', 'Loaded Language',\n",
            "       'Misrepresentation of Someone's Position (Straw Man)',\n",
            "       'Name calling/Labeling',\n",
            "       'Obfuscation, Intentional vagueness, Confusion',\n",
            "       'Presenting Irrelevant Data (Red Herring)', 'Reductio ad hitlerum',\n",
            "       'Repetition', 'Slogans', 'Smears', 'Thought-terminating cliché',\n",
            "       'Transfer', 'Whataboutism'],\n",
            "      dtype='object')\n"
          ]
        }
      ]
    },
    {
      "cell_type": "code",
      "execution_count": null,
      "metadata": {
        "colab": {
          "base_uri": "https://localhost:8080/",
          "height": 17
        },
        "id": "puulQus5LUNP",
        "outputId": "07af2caa-ef73-43fb-cb54-267fa61681c4"
      },
      "outputs": [
        {
          "output_type": "display_data",
          "data": {
            "text/plain": [
              "<IPython.core.display.HTML object>"
            ],
            "text/html": [
              "\n",
              "  <style>\n",
              "    pre {\n",
              "        white-space: pre-wrap;\n",
              "    }\n",
              "  </style>\n",
              "  "
            ]
          },
          "metadata": {}
        }
      ],
      "source": [
        "'''\n",
        "gold_truth=pd.read_csv(\"gold_truth.csv\",encoding=\"utf-8\")\n",
        "#gold_truth=gold_truth.sort_values(by='id')\n",
        "code_result=pd.read_csv(\"code_result.csv\",encoding=\"utf-8\")\n",
        "#code_result=code_result.sort_values(by='id')\n",
        "'''\n",
        "#transfer the 0-1 score with threshold \n",
        "threshold=0.3\n",
        "def replace_values(val):\n",
        "  if(val<threshold):\n",
        "    return 0\n",
        "  else:\n",
        "    return 1\n",
        "code_result=code_result.applymap(replace_values)"
      ]
    },
    {
      "cell_type": "code",
      "execution_count": null,
      "metadata": {
        "colab": {
          "base_uri": "https://localhost:8080/",
          "height": 88
        },
        "id": "fMeAkeugLjIY",
        "outputId": "c0e726e9-c628-4d41-d837-5933d1efc43a"
      },
      "outputs": [
        {
          "output_type": "display_data",
          "data": {
            "text/plain": [
              "<IPython.core.display.HTML object>"
            ],
            "text/html": [
              "\n",
              "  <style>\n",
              "    pre {\n",
              "        white-space: pre-wrap;\n",
              "    }\n",
              "  </style>\n",
              "  "
            ]
          },
          "metadata": {}
        },
        {
          "output_type": "stream",
          "name": "stdout",
          "text": [
            "macro\n",
            "0.29018947398359857\n",
            "micro\n",
            "0.43488108720271795\n"
          ]
        }
      ],
      "source": [
        "from sklearn.metrics import f1_score\n",
        "gold_score=gold_truth\n",
        "gold_score=gold_score.drop(['Transfer','Appeal to (Strong) Emotions'], axis=1)\n",
        "code_score=code_result\n",
        "code_score=code_score.drop(['Transfer','Appeal to (Strong) Emotions'], axis=1)\n",
        "print(\"macro\")\n",
        "print(f1_score(gold_score, code_score, average=\"macro\"))\n",
        "print(\"micro\")\n",
        "print(f1_score(gold_score, code_score, average=\"micro\"))"
      ]
    }
  ],
  "metadata": {
    "colab": {
      "machine_shape": "hm",
      "provenance": [],
      "mount_file_id": "1ccw0o2-u94ChX0r-t-EfixNP6_MVVIwh",
      "authorship_tag": "ABX9TyNiww+0gmlmyRuAk8kmadu2",
      "include_colab_link": true
    },
    "gpuClass": "standard",
    "kernelspec": {
      "display_name": "Python 3",
      "name": "python3"
    },
    "language_info": {
      "name": "python"
    }
  },
  "nbformat": 4,
  "nbformat_minor": 0
}